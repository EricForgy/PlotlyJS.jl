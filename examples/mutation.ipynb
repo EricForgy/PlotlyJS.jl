{
 "cells": [
  {
   "cell_type": "code",
   "execution_count": 7,
   "metadata": {
    "collapsed": false
   },
   "outputs": [],
   "source": [
    "using PlotlyJS"
   ]
  },
  {
   "cell_type": "code",
   "execution_count": 8,
   "metadata": {
    "collapsed": false,
    "scrolled": false
   },
   "outputs": [
    {
     "data": {
      "text/html": [
       "<html>\n",
       "<head>\n",
       "     <script src=\"/Users/sglyon/.julia/v0.4/PlotlyJS/deps/plotly-latest.min.js\"></script>\n",
       "</head>\n",
       "<body>\n",
       "     <div id=\"d1bd38d2-4a2e-4e99-957a-cec2661789de\"></div>\n",
       "\n",
       "<script>\n",
       "   thediv = document.getElementById('d1bd38d2-4a2e-4e99-957a-cec2661789de');\n",
       "var data = [{\"type\":\"scatter\",\"y\":[0,2,3,5],\"x\":[1,2,3,4],\"fill\":\"tozeroy\"},{\"type\":\"scatter\",\"y\":[3,5,1,7],\"x\":[1,2,3,4],\"fill\":\"tonexty\"}]\n",
       "var layout = {\"width\":330,\"margin\":{\"r\":50,\"l\":50,\"b\":50,\"t\":60},\"height\":200}\n",
       "\n",
       "Plotly.plot(thediv, data,  layout, {showLink: false});\n",
       "\n",
       " </script>\n",
       "\n",
       "</body>\n",
       "</html>\n"
      ]
     },
     "execution_count": 8,
     "metadata": {},
     "output_type": "execute_result"
    }
   ],
   "source": [
    "trace1 = scatter(;x=1:4, y=[0, 2, 3, 5], fill=\"tozeroy\")\n",
    "trace2 = scatter(;x=1:4, y=[3, 5, 1, 7], fill=\"tonexty\")\n",
    "p2 = plot([trace1, trace2], Layout(height=200, width=330))"
   ]
  },
  {
   "cell_type": "markdown",
   "metadata": {},
   "source": [
    "### `restyle!`"
   ]
  },
  {
   "cell_type": "code",
   "execution_count": 9,
   "metadata": {
    "collapsed": false
   },
   "outputs": [
    {
     "data": {
      "text/html": [
       "<script>\n",
       "    var thediv = document.getElementById('d1bd38d2-4a2e-4e99-957a-cec2661789de');\n",
       "    Plotly.restyle(thediv ,{\"marker.color\":\"magenta\"}, 1)\n",
       "</script>"
      ]
     },
     "metadata": {},
     "output_type": "display_data"
    }
   ],
   "source": [
    "# second trace will turn pink\n",
    "restyle!(p2, 2; marker_color=\"magenta\");"
   ]
  },
  {
   "cell_type": "code",
   "execution_count": 10,
   "metadata": {
    "collapsed": false
   },
   "outputs": [
    {
     "data": {
      "text/html": [
       "<script>\n",
       "    var thediv = document.getElementById('d1bd38d2-4a2e-4e99-957a-cec2661789de');\n",
       "    Plotly.restyle(thediv ,{\"marker.symbol\":\"square\"}, [0,1])\n",
       "</script>"
      ]
     },
     "metadata": {},
     "output_type": "display_data"
    }
   ],
   "source": [
    "# watch both markers change to squares\n",
    "restyle!(p2, [1,2]; marker_symbol=\"square\");"
   ]
  },
  {
   "cell_type": "code",
   "execution_count": 11,
   "metadata": {
    "collapsed": false
   },
   "outputs": [
    {
     "data": {
      "text/html": [
       "<script>\n",
       "    var thediv = document.getElementById('d1bd38d2-4a2e-4e99-957a-cec2661789de');\n",
       "    Plotly.restyle(thediv ,{\"marker.symbol\":\"star-triangle-up-open\"})\n",
       "</script>"
      ]
     },
     "metadata": {},
     "output_type": "display_data"
    }
   ],
   "source": [
    "# simpler method without passing [1,2]\n",
    "restyle!(p2; marker_symbol=\"star-triangle-up-open\");"
   ]
  },
  {
   "cell_type": "markdown",
   "metadata": {},
   "source": [
    "### `relayout!`"
   ]
  },
  {
   "cell_type": "code",
   "execution_count": 12,
   "metadata": {
    "collapsed": false
   },
   "outputs": [
    {
     "data": {
      "text/html": [
       "<script>\n",
       "    var thediv = document.getElementById('d1bd38d2-4a2e-4e99-957a-cec2661789de');\n",
       "    Plotly.relayout(thediv ,{\"width\":400,\"height\":250})\n",
       "</script>"
      ]
     },
     "metadata": {},
     "output_type": "display_data"
    }
   ],
   "source": [
    "relayout!(p2; width=400, height=250)"
   ]
  },
  {
   "cell_type": "code",
   "execution_count": 13,
   "metadata": {
    "collapsed": false
   },
   "outputs": [
    {
     "data": {
      "text/html": [
       "<script>\n",
       "    var thediv = document.getElementById('d1bd38d2-4a2e-4e99-957a-cec2661789de');\n",
       "    Plotly.relayout(thediv ,{\"title\":\"Interactively controlled!\"})\n",
       "</script>"
      ]
     },
     "metadata": {},
     "output_type": "display_data"
    }
   ],
   "source": [
    "relayout!(p2; title=\"Interactively controlled!\")"
   ]
  },
  {
   "cell_type": "markdown",
   "metadata": {},
   "source": [
    "### `addtraces!`"
   ]
  },
  {
   "cell_type": "code",
   "execution_count": 14,
   "metadata": {
    "collapsed": false
   },
   "outputs": [
    {
     "data": {
      "text/html": [
       "<script>\n",
       "    var thediv = document.getElementById('d1bd38d2-4a2e-4e99-957a-cec2661789de');\n",
       "    Plotly.addTraces(thediv ,[{\"type\":\"scatter\",\"y\":[9,5,8,10],\"x\":[1,2,3,4],\"fill\":\"tozeroy\"}])\n",
       "</script>"
      ]
     },
     "metadata": {},
     "output_type": "display_data"
    }
   ],
   "source": [
    "trace3 = scatter(;x=1:4, y=rand(1:10, 4), fill=\"tozeroy\")\n",
    "addtraces!(p2, trace3)"
   ]
  },
  {
   "cell_type": "code",
   "execution_count": 15,
   "metadata": {
    "collapsed": false
   },
   "outputs": [
    {
     "data": {
      "text/html": [
       "<script>\n",
       "    var thediv = document.getElementById('d1bd38d2-4a2e-4e99-957a-cec2661789de');\n",
       "    Plotly.addTraces(thediv ,[{\"type\":\"scatter\",\"y\":[5,3,1,3],\"x\":[1,2,3,4],\"fill\":\"tozeroy\",\"marker\":{\"color\":\"yellow\"}}], 0)\n",
       "</script>"
      ]
     },
     "metadata": {},
     "output_type": "display_data"
    }
   ],
   "source": [
    "# Add one to the front of the stack. will appear on bottom of legend\n",
    "# Notice it \n",
    "trace4 = scatter(;x=1:4, y=rand(1:10, 4), fill=\"tozeroy\", marker_color=\"yellow\")\n",
    "addtraces!(p2, 1, trace4)"
   ]
  },
  {
   "cell_type": "markdown",
   "metadata": {},
   "source": [
    "### `deletetraces!`"
   ]
  },
  {
   "cell_type": "code",
   "execution_count": 16,
   "metadata": {
    "collapsed": false
   },
   "outputs": [
    {
     "data": {
      "text/html": [
       "<script>\n",
       "    var thediv = document.getElementById('d1bd38d2-4a2e-4e99-957a-cec2661789de');\n",
       "    Plotly.deleteTraces(thediv ,[3])\n",
       "</script>"
      ]
     },
     "metadata": {},
     "output_type": "display_data"
    }
   ],
   "source": [
    "deletetraces!(p2, 4)"
   ]
  },
  {
   "cell_type": "code",
   "execution_count": 17,
   "metadata": {
    "collapsed": false
   },
   "outputs": [
    {
     "data": {
      "text/html": [
       "<script>\n",
       "    var thediv = document.getElementById('d1bd38d2-4a2e-4e99-957a-cec2661789de');\n",
       "    Plotly.deleteTraces(thediv ,[0])\n",
       "</script>"
      ]
     },
     "metadata": {},
     "output_type": "display_data"
    }
   ],
   "source": [
    "deletetraces!(p2, 1)  # back to where we started :)"
   ]
  },
  {
   "cell_type": "markdown",
   "metadata": {},
   "source": [
    "### `movetraces!`"
   ]
  },
  {
   "cell_type": "code",
   "execution_count": 18,
   "metadata": {
    "collapsed": false
   },
   "outputs": [
    {
     "data": {
      "text/html": [
       "<script>\n",
       "    var thediv = document.getElementById('d1bd38d2-4a2e-4e99-957a-cec2661789de');\n",
       "    Plotly.moveTraces(thediv ,[0])\n",
       "</script>"
      ]
     },
     "metadata": {},
     "output_type": "display_data"
    }
   ],
   "source": [
    "# swap the order of the traces (move trace at index 1 to the back)\n",
    "movetraces!(p2, 1)"
   ]
  },
  {
   "cell_type": "code",
   "execution_count": 19,
   "metadata": {
    "collapsed": false
   },
   "outputs": [
    {
     "data": {
      "text/html": [
       "<script>\n",
       "    var thediv = document.getElementById('d1bd38d2-4a2e-4e99-957a-cec2661789de');\n",
       "    Plotly.moveTraces(thediv ,[1,0], [0,1])\n",
       "</script>"
      ]
     },
     "metadata": {},
     "output_type": "display_data"
    }
   ],
   "source": [
    "# swap them back\n",
    "movetraces!(p2, [2, 1], [1, 2])"
   ]
  },
  {
   "cell_type": "markdown",
   "metadata": {},
   "source": [
    "Notice that the plot object also changed so everything was kept in sync:"
   ]
  },
  {
   "cell_type": "code",
   "execution_count": 20,
   "metadata": {
    "collapsed": false
   },
   "outputs": [
    {
     "data": {
      "text/plain": [
       "{\n",
       "  \"width\": 400,\n",
       "  \"title\": \"Interactively controlled!\",\n",
       "  \"margin\": {\n",
       "    \"r\": 50,\n",
       "    \"l\": 50,\n",
       "    \"b\": 50,\n",
       "    \"t\": 60\n",
       "  },\n",
       "  \"height\": 250\n",
       "}\n",
       "\n"
      ]
     },
     "execution_count": 20,
     "metadata": {},
     "output_type": "execute_result"
    }
   ],
   "source": [
    "p2.plot.layout"
   ]
  },
  {
   "cell_type": "code",
   "execution_count": 21,
   "metadata": {
    "collapsed": false
   },
   "outputs": [
    {
     "data": {
      "text/plain": [
       "{\n",
       "  \"type\": \"scatter\",\n",
       "  \"y\": [\n",
       "    3,\n",
       "    5,\n",
       "    1,\n",
       "    7\n",
       "  ],\n",
       "  \"x\": [\n",
       "    1,\n",
       "    2,\n",
       "    3,\n",
       "    4\n",
       "  ],\n",
       "  \"fill\": \"tonexty\",\n",
       "  \"marker\": {\n",
       "    \"symbol\": \"star-triangle-up-open\",\n",
       "    \"color\": \"magenta\"\n",
       "  }\n",
       "}\n",
       "\n"
      ]
     },
     "execution_count": 21,
     "metadata": {},
     "output_type": "execute_result"
    }
   ],
   "source": [
    "p2.plot.data[1]"
   ]
  },
  {
   "cell_type": "markdown",
   "metadata": {
    "collapsed": true
   },
   "source": [
    "## Non-mutating variants\n",
    "\n",
    "For each of the functions `restyle!`, `relayout!`, `addtraces!`, `deletetraces!`, and `movetraces!` there is also a non-mutating version with the same name, but without the `!`. These will create a copy of the underlying data, perform the given transformation, and return a new object. \n",
    "\n",
    "You can tell the object is new because a new plot appears:"
   ]
  },
  {
   "cell_type": "code",
   "execution_count": 22,
   "metadata": {
    "collapsed": false
   },
   "outputs": [
    {
     "data": {
      "text/html": [
       "<html>\n",
       "<head>\n",
       "     <script src=\"/Users/sglyon/.julia/v0.4/PlotlyJS/deps/plotly-latest.min.js\"></script>\n",
       "</head>\n",
       "<body>\n",
       "     <div id=\"d98a9ba4-f519-4507-a43b-e73b93b50638\"></div>\n",
       "\n",
       "<script>\n",
       "   thediv = document.getElementById('d98a9ba4-f519-4507-a43b-e73b93b50638');\n",
       "var data = [{\"type\":\"scatter\",\"y\":[3,5,1,7],\"x\":[1,2,3,4],\"fill\":\"tonexty\",\"marker\":{\"symbol\":\"star-triangle-up-open\",\"color\":\"magenta\"}},{\"type\":\"scatter\",\"y\":[5,3,1,3],\"x\":[1,2,3,4],\"fill\":\"tozeroy\",\"marker\":{\"color\":\"yellow\"}}]\n",
       "var layout = {\"width\":400,\"xaxis\":{\"title\":\"new title\"},\"title\":\"Interactively controlled!\",\"margin\":{\"r\":50,\"l\":50,\"b\":50,\"t\":60},\"height\":250}\n",
       "\n",
       "Plotly.plot(thediv, data,  layout, {showLink: false});\n",
       "\n",
       " </script>\n",
       "\n",
       "</body>\n",
       "</html>\n"
      ]
     },
     "execution_count": 22,
     "metadata": {},
     "output_type": "execute_result"
    }
   ],
   "source": [
    "p3 = relayout(p2; xaxis_title=\"new title\")"
   ]
  },
  {
   "cell_type": "code",
   "execution_count": null,
   "metadata": {
    "collapsed": true
   },
   "outputs": [],
   "source": []
  }
 ],
 "metadata": {
  "kernelspec": {
   "display_name": "Julia 0.4.3-pre",
   "language": "julia",
   "name": "julia-0.4"
  },
  "language_info": {
   "file_extension": ".jl",
   "mimetype": "application/julia",
   "name": "julia",
   "version": "0.4.3"
  }
 },
 "nbformat": 4,
 "nbformat_minor": 0
}
